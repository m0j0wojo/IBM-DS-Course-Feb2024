{
 "cells": [
  {
   "cell_type": "markdown",
   "id": "691e4d1a-c210-406a-8314-8f81d72a50f8",
   "metadata": {},
   "source": [
    "# Data Science Tools and Ecosystem"
   ]
  },
  {
   "cell_type": "markdown",
   "id": "0acb220b-edef-4d27-b84a-a41254b44b28",
   "metadata": {},
   "source": [
    "## Author\n",
    "Tyler Wojtasinski"
   ]
  },
  {
   "cell_type": "markdown",
   "id": "44514343-0c69-470c-8b76-15b7ba9ce629",
   "metadata": {},
   "source": [
    "In this notebook, Data Science Tools and Ecosystem are summarized."
   ]
  },
  {
   "cell_type": "markdown",
   "id": "02ecfc42-5ab5-4be4-881b-b3868c387766",
   "metadata": {
    "tags": []
   },
   "source": [
    "**Objectives**\n",
    "- List popular data science languages\n",
    "- List commonly used data science libraries\n",
    "- List commonly used data science tools\n",
    "- Demonstrate arithmetic expressions"
   ]
  },
  {
   "cell_type": "markdown",
   "id": "66dd37be-7722-4119-8950-b65b254f0420",
   "metadata": {},
   "source": [
    "Some of the popular languages that Data Scientists use are:\n",
    "1. Python\n",
    "2. R\n",
    "3. SQL"
   ]
  },
  {
   "cell_type": "markdown",
   "id": "f4c830f7-3037-4b8d-865e-f47f6b19057b",
   "metadata": {},
   "source": [
    "Some of the commonly used libraries used by Data Scientists include:\n",
    "1. Pandas\n",
    "2. NumPy\n",
    "3. TensorFlow\n"
   ]
  },
  {
   "cell_type": "markdown",
   "id": "4cb637d7-6cd5-42a6-b889-6a7a838c9494",
   "metadata": {},
   "source": [
    "| Data Science Tools |\n",
    "|--------------------|\n",
    "| Jupyter Notebook   |\n",
    "| Visual Studios     |\n",
    "| Google Collab      |"
   ]
  },
  {
   "cell_type": "markdown",
   "id": "2ce00ea6-a7c6-4485-bd4a-61a16104acfd",
   "metadata": {
    "tags": []
   },
   "source": [
    "### Below are a few examples of evaluating arithmetic expressions in Python."
   ]
  },
  {
   "cell_type": "code",
   "execution_count": 3,
   "id": "aee9d5a7-fdbd-478e-87cb-52d16598894d",
   "metadata": {
    "tags": []
   },
   "outputs": [
    {
     "data": {
      "text/plain": [
       "17"
      ]
     },
     "execution_count": 3,
     "metadata": {},
     "output_type": "execute_result"
    }
   ],
   "source": [
    "#This is a simple arithmetic expression to multiply then add integers\n",
    "(3*4)+5"
   ]
  },
  {
   "cell_type": "code",
   "execution_count": 4,
   "id": "3ad0053d-a3b7-43b6-8ca0-e5c7e4881325",
   "metadata": {
    "tags": []
   },
   "outputs": [
    {
     "data": {
      "text/plain": [
       "3.3333333333333335"
      ]
     },
     "execution_count": 4,
     "metadata": {},
     "output_type": "execute_result"
    }
   ],
   "source": [
    "#This will convert minutes into hours\n",
    "200/60"
   ]
  },
  {
   "cell_type": "markdown",
   "id": "84d216ea-697b-4157-810e-c0b767aad070",
   "metadata": {},
   "source": []
  }
 ],
 "metadata": {
  "kernelspec": {
   "display_name": "Python 3 (ipykernel)",
   "language": "python",
   "name": "python3"
  },
  "language_info": {
   "codemirror_mode": {
    "name": "ipython",
    "version": 3
   },
   "file_extension": ".py",
   "mimetype": "text/x-python",
   "name": "python",
   "nbconvert_exporter": "python",
   "pygments_lexer": "ipython3",
   "version": "3.11.5"
  }
 },
 "nbformat": 4,
 "nbformat_minor": 5
}
